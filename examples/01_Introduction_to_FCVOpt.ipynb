{
 "cells": [
  {
   "cell_type": "markdown",
   "metadata": {},
   "source": [
    "# Introduction to FCVOpt \n",
    "\n",
    "This notebook demonstrates the FCVOpt API for efficient hyperparameter optimization using **fractional cross-validation**. We'll tune a Random Forest classifier on a synthetic dataset to illustrate the key concepts and workflow.\n",
    "\n",
    "## What is FCVOpt?\n",
    "\n",
    "FCVOpt implements an innovative approach to hyperparameter optimization that addresses a fundamental challenge in machine learning:\n",
    "\n",
    "- **The Problem**: K-fold cross-validation is more robust than simple train-test splits, but requires fitting K models at each hyperparameter configuration—making optimization computationally expensive.\n",
    "  \n",
    "- **The Solution**: FCVOpt uses a hierarchical Gaussian process model to exploit correlation between folds across the hyperparameter space. This allows the algorithm to evaluate only one CV fold for many configurations while still providing reliable estimates."
   ]
  },
  {
   "cell_type": "code",
   "execution_count": 1,
   "metadata": {},
   "outputs": [],
   "source": [
    "# Import required libraries\n",
    "import numpy as np\n",
    "import pandas as pd\n",
    "from sklearn.datasets import make_classification\n",
    "from sklearn.model_selection import train_test_split\n",
    "from sklearn.ensemble import RandomForestClassifier\n",
    "from sklearn.metrics import zero_one_loss\n",
    "\n",
    "from fcvopt.optimizers import FCVOpt\n",
    "from fcvopt.crossvalidation import SklearnCVObj\n",
    "from fcvopt.configspace import ConfigurationSpace\n",
    "from ConfigSpace import Integer, Float"
   ]
  },
  {
   "cell_type": "markdown",
   "metadata": {},
   "source": [
    "## Generating the data\n",
    "\n",
    "We'll create a synthetic binary classification dataset with the following characteristics:\n",
    "- 1,250 samples with 50 features\n",
    "- Only 10 features are informative, 25 are redundant, and the rest are noise\n",
    "- 10% label noise to make the problem more realistic\n",
    "- 80/20 train/test split for final model evaluation\n",
    "\n",
    "**Note**: The test set is held out entirely and will only be used to evaluate the final optimized model. It plays no role in hyperparameter optimization."
   ]
  },
  {
   "cell_type": "code",
   "execution_count": 2,
   "metadata": {},
   "outputs": [
    {
     "name": "stdout",
     "output_type": "stream",
     "text": [
      "Training set: 1000 samples, 50 features\n",
      "Test set: 250 samples\n",
      "Class distribution: [497 503]\n"
     ]
    }
   ],
   "source": [
    "# Generate sample classification data\n",
    "X, y = make_classification(\n",
    "    n_samples=1250, \n",
    "    n_features=50, \n",
    "    n_informative=10,\n",
    "    n_redundant=25,\n",
    "    n_classes=2,\n",
    "    flip_y=0.1,\n",
    "    random_state=42\n",
    ")\n",
    "\n",
    "# Split into train and test sets\n",
    "X_train, X_test, y_train, y_test = train_test_split(\n",
    "    X, y, test_size=0.2, random_state=42, stratify=y\n",
    ")\n",
    "\n",
    "print(f\"Training set: {X_train.shape[0]} samples, {X_train.shape[1]} features\")\n",
    "print(f\"Test set: {X_test.shape[0]} samples\")\n",
    "print(f\"Class distribution: {np.bincount(y_train)}\")"
   ]
  },
  {
   "cell_type": "markdown",
   "metadata": {},
   "source": [
    "## FCVOPT API\n",
    "\n",
    "FCVOpt follows a simple and intuitive three-step process:\n",
    "\n",
    "```\n",
    "1. Define Cross-Validation Objective\n",
    "   ↓\n",
    "2. Define Hyperparameter Search Space  \n",
    "   ↓\n",
    "3. Run Optimization\n",
    "```\n",
    "Let's walk through each step in detail."
   ]
  },
  {
   "cell_type": "markdown",
   "metadata": {},
   "source": [
    "##  Step 1: Define the Cross-Validation Objective\n",
    "The CV objective encapsulates:\n",
    "- **What model** we're optimizing (RandomForestClassifier)\n",
    "- **What data** we're using (X_train, y_train)\n",
    "- **What metric** we're minimizing (misclassification rate)\n",
    "- **How many folds** to use (10-fold CV)\n",
    "\n",
    "For scikit-learn estimators, FCVOpt provides the convenient `SklearnCVObj` wrapper class."
   ]
  },
  {
   "cell_type": "code",
   "execution_count": 3,
   "metadata": {},
   "outputs": [
    {
     "name": "stdout",
     "output_type": "stream",
     "text": [
      "Created CV objective with 10 folds\n"
     ]
    }
   ],
   "source": [
    "# Create CV objective for Random Forest\n",
    "cv_obj = SklearnCVObj(\n",
    "    estimator=RandomForestClassifier(random_state=42),\n",
    "    X=X_train, \n",
    "    y=y_train,\n",
    "    loss_metric=zero_one_loss,  # Minimize misclassification rate\n",
    "    task='binary-classification',\n",
    "    n_splits=10,  # 5-fold cross-validation\n",
    "    rng_seed=42\n",
    ")\n",
    "\n",
    "print(f\"Created CV objective with {cv_obj.cv.get_n_splits()} folds\")"
   ]
  },
  {
   "cell_type": "markdown",
   "metadata": {},
   "source": [
    "## Step 2: Define the hyperparameter search space\n",
    "\n",
    "The configuration space specifies which hyperparameters to optimize and their valid ranges. For Random Forest, we'll tune:\n",
    "\n",
    "| Hyperparameter | Range | Scale | Description |\n",
    "|----------------|-------|-------|-------------|\n",
    "| `n_estimators` | [50, 1000] | Log | Number of trees in the forest |\n",
    "| `max_depth` | [1, 15] | Log | Maximum depth of each tree |\n",
    "| `max_features` | [0.01, 1.0] | Log | Fraction of features to consider for splits |\n",
    "| `min_samples_split` | [2, 200] | Log | Minimum samples required to split a node |"
   ]
  },
  {
   "cell_type": "code",
   "execution_count": 4,
   "metadata": {},
   "outputs": [
    {
     "name": "stdout",
     "output_type": "stream",
     "text": [
      "Configuration space object:\n",
      "  Hyperparameters:\n",
      "    max_depth, Type: UniformInteger, Range: [1, 15], Default: 4, on log-scale\n",
      "    max_features, Type: UniformFloat, Range: [0.01, 1.0], Default: 0.1, on log-scale\n",
      "    min_samples_split, Type: UniformInteger, Range: [2, 200], Default: 20, on log-scale\n",
      "    n_estimators, Type: UniformInteger, Range: [50, 1000], Default: 224, on log-scale\n",
      "\n"
     ]
    }
   ],
   "source": [
    "# Define hyperparameter search space\n",
    "config = ConfigurationSpace()\n",
    "config.add([\n",
    "    Integer('n_estimators', bounds=(50, 1000), log=True),\n",
    "    Integer('max_depth', bounds=(1, 15), log=True),\n",
    "    Float('max_features', bounds=(0.01, 1.0), log=True),\n",
    "    Integer('min_samples_split', bounds=(2, 200), log=True)\n",
    "])\n",
    "\n",
    "print(config)"
   ]
  },
  {
   "cell_type": "markdown",
   "metadata": {},
   "source": [
    "## Step 3: Initialize and Run the Optimizer\n",
    "\n",
    "Now we're ready to optimize! Key parameters for `FCVOpt`:\n",
    "\n",
    "- `obj`: The objective function to minimize (CV loss)\n",
    "- `n_folds`: Number of CV folds in the objective\n",
    "- `config`: The search space we defined\n",
    "- `acq_function`: Acquisition function for Bayesian optimization\n",
    "  - `'LCB'` (Lower Confidence Bound): Faster, good for exploration/exploitation balance\n",
    "  - `'KG'` (Knowledge Gradient): Often better results but slower\n",
    "- `tracking_dir`: Directory for MLflow experiment tracking\n",
    "- `experiment`: Name for this optimization run\n",
    "\n",
    "We'll run 25 trials, which means evaluating 25 different hyperparameter configurations, each evaluated on a single held-out fold. "
   ]
  },
  {
   "cell_type": "code",
   "execution_count": 5,
   "metadata": {},
   "outputs": [
    {
     "name": "stderr",
     "output_type": "stream",
     "text": [
      "2025/10/23 20:05:46 INFO mlflow.tracking.fluent: Experiment with name 'rf_tuning_example' does not exist. Creating a new experiment.\n"
     ]
    },
    {
     "name": "stdout",
     "output_type": "stream",
     "text": [
      "\n",
      "Number of candidates evaluated.....: 30\n",
      "Observed obj at incumbent..........: 0.16\n",
      "Estimated obj at incumbent.........: 0.0959162\n",
      "\n",
      " Best Configuration at termination:\n",
      " Configuration(values={\n",
      "  'max_depth': 15,\n",
      "  'max_features': 0.01,\n",
      "  'min_samples_split': 2,\n",
      "  'n_estimators': 1000,\n",
      "})\n"
     ]
    }
   ],
   "source": [
    "# Initialize FCVOpt optimizer\n",
    "optimizer = FCVOpt(\n",
    "    obj=cv_obj.cvloss,\n",
    "    n_folds=cv_obj.cv.get_n_splits(),\n",
    "    config=config,\n",
    "    acq_function='LCB',  # Lower Confidence Bound acquisition\n",
    "    tracking_dir='./hp_opt_runs/',  # MLflow tracking directory\n",
    "    experiment='rf_tuning_example',\n",
    "    seed=123\n",
    ")\n",
    "\n",
    "# run for 25 trials \n",
    "best_conf = optimizer.optimize(n_trials=30)"
   ]
  },
  {
   "cell_type": "markdown",
   "metadata": {},
   "source": [
    "## Training the Final Model\n",
    "\n",
    "Now we train a Random Forest with the optimized hyperparameters on the full training set and evaluate it on the held-out test set."
   ]
  },
  {
   "cell_type": "code",
   "execution_count": 6,
   "metadata": {},
   "outputs": [],
   "source": [
    "# get the model with best hyperparmeters found\n",
    "best_model = cv_obj.construct_model(dict(best_conf))\n",
    "\n",
    "# train the model on the data\n",
    "_ = best_model.fit(X_train, y_train)"
   ]
  },
  {
   "cell_type": "code",
   "execution_count": 7,
   "metadata": {},
   "outputs": [
    {
     "name": "stdout",
     "output_type": "stream",
     "text": [
      "Final Model Performance:\n",
      "  Training Misclassification Rate....:0.0000\n",
      "  Test Misclassification Rate.......: 0.0960\n"
     ]
    }
   ],
   "source": [
    "# Evaluate on training and test sets\n",
    "y_train_pred = best_model.predict(X_train)\n",
    "y_test_pred = best_model.predict(X_test)\n",
    "\n",
    "train_mcr = zero_one_loss(y_train, y_train_pred)\n",
    "test_mcr = zero_one_loss(y_test, y_test_pred)\n",
    "\n",
    "print(\"Final Model Performance:\")\n",
    "print(f\"  Training Misclassification Rate....:{train_mcr:.4f}\")\n",
    "print(f\"  Test Misclassification Rate.......: {test_mcr:.4f}\")"
   ]
  },
  {
   "cell_type": "code",
   "execution_count": null,
   "metadata": {},
   "outputs": [],
   "source": []
  }
 ],
 "metadata": {
  "kernelspec": {
   "display_name": "fcvopt_test",
   "language": "python",
   "name": "fcvopt_test"
  },
  "language_info": {
   "codemirror_mode": {
    "name": "ipython",
    "version": 3
   },
   "file_extension": ".py",
   "mimetype": "text/x-python",
   "name": "python",
   "nbconvert_exporter": "python",
   "pygments_lexer": "ipython3",
   "version": "3.10.19"
  }
 },
 "nbformat": 4,
 "nbformat_minor": 4
}
