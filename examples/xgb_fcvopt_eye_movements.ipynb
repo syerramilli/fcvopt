{
 "cells": [
  {
   "cell_type": "markdown",
   "metadata": {},
   "source": [
    "# XGBoost Optimization with FCVOpt\n",
    "\n",
    "This notebook demonstrates how to tune an `XGBClassifier` on the `eye_movements` dataset using `FCVOpt`.\n",
    "We will walk through the entire workflow: importing libraries, defining a metric, loading data,\n",
    "setting up the cross-validation objective, specifying a hyperparameter search space,\n",
    "running the optimizer, and inspecting the best result.\n"
   ]
  },
  {
   "cell_type": "markdown",
   "metadata": {},
   "source": [
    "## 1. Import libraries\n",
    "\n",
    "Load numerical, machine learning, and FCVOpt utilities used throughout this notebook.\n"
   ]
  },
  {
   "cell_type": "code",
   "execution_count": null,
   "metadata": {},
   "outputs": [],
   "source": [
    "import random\n",
    "import numpy as np\n",
    "import torch\n",
    "from sklearn.datasets import fetch_openml\n",
    "from sklearn.metrics import roc_auc_score\n",
    "from xgboost import XGBClassifier\n",
    "from fcvopt.configspace import ConfigurationSpace\n",
    "from ConfigSpace import Float, Integer, Categorical\n",
    "from fcvopt.optimizers.fcvopt import FCVOpt\n",
    "from fcvopt.crossvalidation.sklearn_cvobj import XGBoostCVObjEarlyStopping\n"
   ]
  },
  {
   "cell_type": "markdown",
   "metadata": {},
   "source": [
    "## 2. Define metric and helper functions\n",
    "\n",
    "The optimizer minimizes a loss function. Here we convert ROC AUC into a loss by taking the square root of\n",
    "`1 - AUC`. A small helper function sets all random seeds to ensure reproducible results.\n"
   ]
  },
  {
   "cell_type": "code",
   "execution_count": null,
   "metadata": {},
   "outputs": [],
   "source": [
    "def metric(y_true, y_pred):\n",
    "    return np.sqrt(1 - roc_auc_score(y_true, y_pred))\n",
    "\n",
    "def set_seed(seed):\n",
    "    random.seed(seed)\n",
    "    np.random.seed(seed)\n",
    "    torch.manual_seed(seed)\n",
    "\n",
    "set_seed(0)\n"
   ]
  },
  {
   "cell_type": "markdown",
   "metadata": {},
   "source": [
    "## 3. Load the eye_movements dataset\n",
    "\n",
    "Retrieve the `eye_movements` dataset from OpenML. Features `X` are returned as a pandas DataFrame and labels `y`\n",
    "as a NumPy array. Displaying the head gives a glimpse of the feature structure.\n"
   ]
  },
  {
   "cell_type": "code",
   "execution_count": null,
   "metadata": {},
   "outputs": [],
   "source": [
    "DATA_ID = 44157  # OpenML id for eye_movements\n",
    "X, y = fetch_openml(data_id=DATA_ID, return_X_y=True, as_frame=True, parser='auto')\n",
    "X.head()\n"
   ]
  },
  {
   "cell_type": "markdown",
   "metadata": {},
   "source": [
    "## 4. Create cross-validation objective\n",
    "\n",
    "`XGBoostCVObjEarlyStopping` wraps an `XGBClassifier` and evaluates configurations using cross-validation with\n",
    "early stopping. FCVOpt expects this object to provide the `cvloss` function that returns the averaged\n",
    "validation loss for a given configuration.\n"
   ]
  },
  {
   "cell_type": "code",
   "execution_count": null,
   "metadata": {},
   "outputs": [],
   "source": [
    "cvobj = XGBoostCVObjEarlyStopping(\n",
    "    estimator=XGBClassifier(\n",
    "        n_estimators=2000,\n",
    "        tree_method='approx',\n",
    "        enable_categorical=True,\n",
    "        n_jobs=-1\n",
    "    ),\n",
    "    X=X,\n",
    "    y=y,\n",
    "    loss_metric=metric,\n",
    "    needs_proba=True,\n",
    "    n_splits=10,\n",
    "    n_repeats=1,\n",
    "    holdout=False,\n",
    "    task='binary-classification',\n",
    "    early_stopping_rounds=50,\n",
    "    rng_seed=0,\n",
    ")\n"
   ]
  },
  {
   "cell_type": "markdown",
   "metadata": {},
   "source": [
    "## 5. Define hyperparameter search space\n",
    "\n",
    "Specify ranges for key XGBoost hyperparameters using a `ConfigurationSpace`. These bounds guide FCVOpt when\n",
    "sampling new configurations to evaluate.\n"
   ]
  },
  {
   "cell_type": "code",
   "execution_count": null,
   "metadata": {},
   "outputs": [],
   "source": [
    "config = ConfigurationSpace(seed=1234)\n",
    "config.add([\n",
    "    Float('learning_rate', bounds=(1e-5, 0.95), log=True),\n",
    "    Integer('max_depth', bounds=(1, 12), log=True),\n",
    "    Integer('max_leaves', bounds=(2, 1024), log=True),\n",
    "    Float('reg_alpha', bounds=(1e-8, 100), log=True),\n",
    "    Float('reg_lambda', bounds=(1e-8, 100), log=True),\n",
    "    Float('gamma', bounds=(1e-8, 100), log=True),\n",
    "    Float('subsample', bounds=(0.1, 1.0)),\n",
    "    Float('colsample_bytree', bounds=(0.1, 1.0)),\n",
    "    Categorical('grow_policy', ['depthwise', 'lossguide']),\n",
    "])\n",
    "config.generate_indices()\n"
   ]
  },
  {
   "cell_type": "markdown",
   "metadata": {},
   "source": [
    "## 6. Instantiate the optimizer\n",
    "\n",
    "Create the `FCVOpt` optimizer with the cross-validation objective and search space. The optimizer performs\n",
    "fold selection using variance reduction and starts with a stratified initialization.\n"
   ]
  },
  {
   "cell_type": "code",
   "execution_count": null,
   "metadata": {},
   "outputs": [],
   "source": [
    "opt = FCVOpt(\n",
    "    obj=cvobj.cvloss,\n",
    "    n_folds=cvobj.cv.get_n_splits(),\n",
    "    n_repeats=1,\n",
    "    fold_selection_criterion='variance_reduction',\n",
    "    fold_initialization='stratified',\n",
    "    config=config,\n",
    "    save_iter=10,\n",
    "    save_dir=None,\n",
    "    verbose=1,\n",
    "    n_jobs=-1,\n",
    ")\n"
   ]
  },
  {
   "cell_type": "markdown",
   "metadata": {},
   "source": [
    "## 7. Run the optimization\n",
    "\n",
    "Run 20 optimization iterations, beginning with 5 random initial configurations to explore the space before\n",
    "the model starts selecting promising candidates.\n"
   ]
  },
  {
   "cell_type": "code",
   "execution_count": null,
   "metadata": {},
   "outputs": [],
   "source": [
    "results = opt.run(n_iters=20, n_init=5)\n"
   ]
  },
  {
   "cell_type": "markdown",
   "metadata": {},
   "source": [
    "## 8. Inspect the best result\n",
    "\n",
    "After optimization, report the best loss and the corresponding hyperparameter configuration discovered by\n",
    "FCVOpt.\n"
   ]
  },
  {
   "cell_type": "code",
   "execution_count": null,
   "metadata": {},
   "outputs": [],
   "source": [
    "print('Best loss:', opt.f_inc)\n",
    "print('Best configuration:')\n",
    "print(opt.inc_config)\n"
   ]
  }
 ],
 "metadata": {
  "kernelspec": {
   "display_name": "Python 3",
   "language": "python",
   "name": "python3"
  },
  "language_info": {
   "name": "python",
   "version": "3"
  }
 },
 "nbformat": 4,
 "nbformat_minor": 5
}