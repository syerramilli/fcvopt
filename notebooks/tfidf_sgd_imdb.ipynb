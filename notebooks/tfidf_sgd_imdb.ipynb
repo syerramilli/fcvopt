{
 "cells": [
  {
   "cell_type": "markdown",
   "metadata": {},
   "source": [
    "# Sentiment analysis using bag of words and logistic regression\n",
    "\n",
    "In this example, we are optimizing the hyperparameters of a bag-of-words based classification pipleine on the IMDB reviews dataset. There are three main hyperparameters\n",
    "\n",
    "1. Maximum number of tokens to include\n",
    "2. L1 regularization parameter\n",
    "3. Learning rate for SGD\n",
    "\n",
    "\n",
    "All these hyperparameters are optimized on the log scale. The loss function is the square root of the misclassification rate."
   ]
  },
  {
   "cell_type": "code",
   "execution_count": 1,
   "metadata": {},
   "outputs": [
    {
     "name": "stderr",
     "output_type": "stream",
     "text": [
      "Using TensorFlow backend.\n"
     ]
    }
   ],
   "source": [
    "import numpy as np\n",
    "import pandas as pd\n",
    "\n",
    "from fcvopt.optimizers.fcvopt import FCVOpt\n",
    "\n",
    "from nltk.corpus import stopwords\n",
    "\n",
    "from sklearn.datasets import load_files\n",
    "from sklearn.feature_extraction.text import TfidfVectorizer\n",
    "from sklearn.pipeline import Pipeline\n",
    "from sklearn.metrics import accuracy_score\n",
    "from sklearn.base import TransformerMixin\n",
    "\n",
    "from keras.models import Sequential\n",
    "from keras.layers import Dense\n",
    "from keras.optimizers import sgd\n",
    "from keras.regularizers import l1\n",
    "from keras.wrappers.scikit_learn import KerasClassifier\n",
    "\n",
    "import matplotlib.pyplot as plt\n",
    "\n",
    "%matplotlib inline"
   ]
  },
  {
   "cell_type": "code",
   "execution_count": 2,
   "metadata": {},
   "outputs": [],
   "source": [
    "imdb_train = load_files('data/aclImdb/train/',\n",
    "                        categories=['neg','pos']\n",
    "                       )\n",
    "text = np.array(imdb_train.data)\n",
    "y = imdb_train.target"
   ]
  },
  {
   "cell_type": "code",
   "execution_count": 12,
   "metadata": {},
   "outputs": [],
   "source": [
    "def build_classifer(n_classes,lr=0.001,l=1e-4,momentum=0.9):\n",
    "    if n_classes == 2:\n",
    "        activation = 'sigmoid'\n",
    "        loss = 'binary_crossentropy'\n",
    "        out = 1\n",
    "    else:\n",
    "        activation = 'softmax'\n",
    "        loss = 'categorical_crossentropy'\n",
    "        out = n_classes\n",
    "        \n",
    "    model = Sequential()\n",
    "    model.add(Dense(out,\n",
    "                    kernel_regularizer=l1(l),\n",
    "                    activation=activation))\n",
    "    model.compile(loss=loss,\n",
    "                  optimizer = sgd(lr=lr,momentum=momentum),\n",
    "                  metrics=['accuracy']\n",
    "                 )\n",
    "    return model\n",
    "\n",
    "class DenseTransformer(TransformerMixin):\n",
    "\n",
    "    def fit(self, X, y=None, **fit_params):\n",
    "        return self\n",
    "\n",
    "    def transform(self, X, y=None, **fit_params):\n",
    "        return X.toarray()"
   ]
  },
  {
   "cell_type": "code",
   "execution_count": 15,
   "metadata": {},
   "outputs": [],
   "source": [
    "# define classifier object and the hyperparameter bounds\n",
    "clf = Pipeline([('bow',TfidfVectorizer(max_df=0.9,\n",
    "                                       min_df=5,\n",
    "                                       stop_words=stopwords.words('english'),\n",
    "                                       max_features = 10000,\n",
    "                                       ngram_range=(1,2))),# upto bigrams\n",
    "                ('to_dense',DenseTransformer()),# converts spare array to dense\n",
    "                ('lreg',KerasClassifier(build_fn = build_classifer,\n",
    "                                         n_classes=2,\n",
    "                                         batch_size=32,\n",
    "                                         epochs=30,\n",
    "                                         verbose=0\n",
    "                                        ))])\n",
    "\n",
    "param_bounds = {'bow__max_features':[100,50000], # maximum number of tokens to consider \n",
    "                'lreg__l':[1e-6,1], # l1 regularization term\n",
    "                'lreg__lr':[1e-6,1] # sgd learning rate\n",
    "               }"
   ]
  },
  {
   "cell_type": "code",
   "execution_count": 16,
   "metadata": {},
   "outputs": [
    {
     "name": "stdout",
     "output_type": "stream",
     "text": [
      "  iter    f_best   acq_best    sigma_f\n",
      "     0 4.524e-01 1.683e-01 1.842e-01\n",
      "     1 3.736e-01 1.661e-01 1.702e-01\n",
      "     2 3.522e-01 1.555e-01 1.818e-01\n",
      "     3 3.571e-01 1.531e-01 1.732e-01\n",
      "     4 3.477e-01 1.324e-01 1.912e-01\n",
      "     5 3.416e-01 1.619e-01 1.876e-01\n",
      "     6 3.305e-01 1.721e-01 2.254e-01\n",
      "     7 3.270e-01 1.739e-01 2.345e-01\n",
      "     8 3.306e-01 1.662e-01 2.067e-01\n",
      "     9 3.229e-01 1.814e-01 2.429e-01\n",
      "  iter    f_best   acq_best    sigma_f\n",
      "    10 3.230e-01 2.527e-01 2.154e-01\n",
      "    11 3.338e-01 2.686e-01 2.572e-01\n",
      "    12 3.307e-01 2.776e-01 2.405e-01\n",
      "    13 3.226e-01 2.928e-01 1.990e-01\n",
      "    14 3.225e-01 2.961e-01 2.344e-01\n",
      "    15 3.242e-01 3.002e-01 2.103e-01\n",
      "    16 3.246e-01 2.984e-01 2.258e-01\n",
      "    17 3.222e-01 3.094e-01 2.226e-01\n",
      "    18 3.228e-01 3.107e-01 2.456e-01\n",
      "    19 3.224e-01 3.096e-01 1.912e-01\n",
      "\n",
      "Number of candidates evaluated.....: 23\n",
      "Number of folds evaluated..........: 23\n",
      "Estimated obj at incumbent.........: 0.32239\n",
      "Estimated obj at candidate.........: 0.32255\n",
      "\n",
      "Incumbent at termination:\n",
      "[4.07893177e+04 1.95212924e-06 4.77607324e-01]\n",
      "\n",
      "Candidate at termination:\n",
      "[5.00000000e+04 2.13847447e-06 4.72234987e-01]\n"
     ]
    },
    {
     "data": {
      "text/plain": [
       "{'x_best': array([4.07893177e+04, 1.95212924e-06, 4.77607324e-01]),\n",
       " 'f_best': 0.3223895321130432,\n",
       " 'acq_cand': 0.30957262686154174,\n",
       " 'x_cand': array([5.00000000e+04, 2.13847447e-06, 4.72234987e-01])}"
      ]
     },
     "execution_count": 16,
     "metadata": {},
     "output_type": "execute_result"
    }
   ],
   "source": [
    "def sqrt_mcr(y_true,y_pred):\n",
    "    return np.sqrt(1-accuracy_score(y_true,y_pred))\n",
    "\n",
    "# define optimizer object\n",
    "opt = FCVOpt(clf,param_bounds,sqrt_mcr,kernel=\"matern\",\n",
    "             logscale=np.array([0,1,2]),max_iter=20,\n",
    "             integer = [0], # number of tokens is an integer variable\n",
    "             seed=4567,verbose=2,\n",
    "             n_folds=5,n_init=4\n",
    "            )\n",
    "\n",
    "# tune hyperparameters\n",
    "opt.fit(text,y)"
   ]
  },
  {
   "cell_type": "code",
   "execution_count": 24,
   "metadata": {},
   "outputs": [
    {
     "data": {
      "text/html": [
       "<div>\n",
       "<style scoped>\n",
       "    .dataframe tbody tr th:only-of-type {\n",
       "        vertical-align: middle;\n",
       "    }\n",
       "\n",
       "    .dataframe tbody tr th {\n",
       "        vertical-align: top;\n",
       "    }\n",
       "\n",
       "    .dataframe thead th {\n",
       "        text-align: right;\n",
       "    }\n",
       "</style>\n",
       "<table border=\"1\" class=\"dataframe\">\n",
       "  <thead>\n",
       "    <tr style=\"text-align: right;\">\n",
       "      <th></th>\n",
       "      <th>bow__max_features</th>\n",
       "      <th>lreg__l</th>\n",
       "      <th>lreg__lr</th>\n",
       "      <th>pred_value</th>\n",
       "    </tr>\n",
       "  </thead>\n",
       "  <tbody>\n",
       "    <tr>\n",
       "      <th>0</th>\n",
       "      <td>15941.685172</td>\n",
       "      <td>0.000364</td>\n",
       "      <td>0.151191</td>\n",
       "      <td>0.452424</td>\n",
       "    </tr>\n",
       "    <tr>\n",
       "      <th>1</th>\n",
       "      <td>50000.000000</td>\n",
       "      <td>0.000001</td>\n",
       "      <td>1.000000</td>\n",
       "      <td>0.373615</td>\n",
       "    </tr>\n",
       "    <tr>\n",
       "      <th>2</th>\n",
       "      <td>50000.000000</td>\n",
       "      <td>0.000001</td>\n",
       "      <td>1.000000</td>\n",
       "      <td>0.352241</td>\n",
       "    </tr>\n",
       "    <tr>\n",
       "      <th>3</th>\n",
       "      <td>50000.000000</td>\n",
       "      <td>0.000001</td>\n",
       "      <td>1.000000</td>\n",
       "      <td>0.357086</td>\n",
       "    </tr>\n",
       "    <tr>\n",
       "      <th>4</th>\n",
       "      <td>50000.000000</td>\n",
       "      <td>0.000001</td>\n",
       "      <td>1.000000</td>\n",
       "      <td>0.347710</td>\n",
       "    </tr>\n",
       "    <tr>\n",
       "      <th>5</th>\n",
       "      <td>50000.000000</td>\n",
       "      <td>0.000001</td>\n",
       "      <td>1.000000</td>\n",
       "      <td>0.341580</td>\n",
       "    </tr>\n",
       "    <tr>\n",
       "      <th>6</th>\n",
       "      <td>50000.000000</td>\n",
       "      <td>0.000001</td>\n",
       "      <td>1.000000</td>\n",
       "      <td>0.330526</td>\n",
       "    </tr>\n",
       "    <tr>\n",
       "      <th>7</th>\n",
       "      <td>50000.000000</td>\n",
       "      <td>0.000001</td>\n",
       "      <td>1.000000</td>\n",
       "      <td>0.327013</td>\n",
       "    </tr>\n",
       "    <tr>\n",
       "      <th>8</th>\n",
       "      <td>50000.000000</td>\n",
       "      <td>0.000001</td>\n",
       "      <td>1.000000</td>\n",
       "      <td>0.330557</td>\n",
       "    </tr>\n",
       "    <tr>\n",
       "      <th>9</th>\n",
       "      <td>50000.000000</td>\n",
       "      <td>0.000001</td>\n",
       "      <td>1.000000</td>\n",
       "      <td>0.322916</td>\n",
       "    </tr>\n",
       "    <tr>\n",
       "      <th>10</th>\n",
       "      <td>50000.000000</td>\n",
       "      <td>0.000001</td>\n",
       "      <td>1.000000</td>\n",
       "      <td>0.323030</td>\n",
       "    </tr>\n",
       "    <tr>\n",
       "      <th>11</th>\n",
       "      <td>21893.983757</td>\n",
       "      <td>0.000004</td>\n",
       "      <td>0.577234</td>\n",
       "      <td>0.333755</td>\n",
       "    </tr>\n",
       "    <tr>\n",
       "      <th>12</th>\n",
       "      <td>50000.000000</td>\n",
       "      <td>0.000001</td>\n",
       "      <td>1.000000</td>\n",
       "      <td>0.330650</td>\n",
       "    </tr>\n",
       "    <tr>\n",
       "      <th>13</th>\n",
       "      <td>50000.000000</td>\n",
       "      <td>0.000002</td>\n",
       "      <td>0.282543</td>\n",
       "      <td>0.322590</td>\n",
       "    </tr>\n",
       "    <tr>\n",
       "      <th>14</th>\n",
       "      <td>50000.000000</td>\n",
       "      <td>0.000002</td>\n",
       "      <td>0.282543</td>\n",
       "      <td>0.322501</td>\n",
       "    </tr>\n",
       "    <tr>\n",
       "      <th>15</th>\n",
       "      <td>50000.000000</td>\n",
       "      <td>0.000002</td>\n",
       "      <td>0.282543</td>\n",
       "      <td>0.324153</td>\n",
       "    </tr>\n",
       "    <tr>\n",
       "      <th>16</th>\n",
       "      <td>50000.000000</td>\n",
       "      <td>0.000002</td>\n",
       "      <td>0.282543</td>\n",
       "      <td>0.324557</td>\n",
       "    </tr>\n",
       "    <tr>\n",
       "      <th>17</th>\n",
       "      <td>34158.714453</td>\n",
       "      <td>0.000002</td>\n",
       "      <td>0.504775</td>\n",
       "      <td>0.322247</td>\n",
       "    </tr>\n",
       "    <tr>\n",
       "      <th>18</th>\n",
       "      <td>34158.714453</td>\n",
       "      <td>0.000002</td>\n",
       "      <td>0.504775</td>\n",
       "      <td>0.322839</td>\n",
       "    </tr>\n",
       "    <tr>\n",
       "      <th>19</th>\n",
       "      <td>40789.317695</td>\n",
       "      <td>0.000002</td>\n",
       "      <td>0.477607</td>\n",
       "      <td>0.322390</td>\n",
       "    </tr>\n",
       "  </tbody>\n",
       "</table>\n",
       "</div>"
      ],
      "text/plain": [
       "    bow__max_features   lreg__l  lreg__lr  pred_value\n",
       "0        15941.685172  0.000364  0.151191    0.452424\n",
       "1        50000.000000  0.000001  1.000000    0.373615\n",
       "2        50000.000000  0.000001  1.000000    0.352241\n",
       "3        50000.000000  0.000001  1.000000    0.357086\n",
       "4        50000.000000  0.000001  1.000000    0.347710\n",
       "5        50000.000000  0.000001  1.000000    0.341580\n",
       "6        50000.000000  0.000001  1.000000    0.330526\n",
       "7        50000.000000  0.000001  1.000000    0.327013\n",
       "8        50000.000000  0.000001  1.000000    0.330557\n",
       "9        50000.000000  0.000001  1.000000    0.322916\n",
       "10       50000.000000  0.000001  1.000000    0.323030\n",
       "11       21893.983757  0.000004  0.577234    0.333755\n",
       "12       50000.000000  0.000001  1.000000    0.330650\n",
       "13       50000.000000  0.000002  0.282543    0.322590\n",
       "14       50000.000000  0.000002  0.282543    0.322501\n",
       "15       50000.000000  0.000002  0.282543    0.324153\n",
       "16       50000.000000  0.000002  0.282543    0.324557\n",
       "17       34158.714453  0.000002  0.504775    0.322247\n",
       "18       34158.714453  0.000002  0.504775    0.322839\n",
       "19       40789.317695  0.000002  0.477607    0.322390"
      ]
     },
     "execution_count": 24,
     "metadata": {},
     "output_type": "execute_result"
    }
   ],
   "source": [
    "# view the sequence of incumbents along with their predicted values\n",
    "df = pd.DataFrame(opt.X_inc)\n",
    "df.columns = param_bounds.keys()\n",
    "df['pred_value'] = opt.y_inc\n",
    "df"
   ]
  },
  {
   "cell_type": "code",
   "execution_count": 18,
   "metadata": {},
   "outputs": [
    {
     "data": {
      "image/png": "[encoded data removed]",
      "text/plain": [
       "<Figure size 720x432 with 1 Axes>"
      ]
     },
     "metadata": {
      "needs_background": "light"
     },
     "output_type": "display_data"
    }
   ],
   "source": [
    "plt.figure(figsize=(10,6))\n",
    "plt.plot(opt.y_inc) # plot predicted incumbent value at each iteration)\n",
    "plt.xlabel('Iteration')\n",
    "plt.ylabel('Sqrt. MCR')\n",
    "plt.title('Predicted incumbent at each iteration')\n",
    "plt.grid()\n",
    "plt.show()"
   ]
  },
  {
   "cell_type": "code",
   "execution_count": 19,
   "metadata": {},
   "outputs": [
    {
     "data": {
      "image/png": "[encoded data removed]",
      "text/plain": [
       "<Figure size 720x432 with 1 Axes>"
      ]
     },
     "metadata": {
      "needs_background": "light"
     },
     "output_type": "display_data"
    }
   ],
   "source": [
    "# plotting termination metric\n",
    "plt.figure(figsize=(10,6))\n",
    "plt.hlines(0.05,0,opt.max_iter-1,\n",
    "           linestyles=\"dashed\",colors=\"red\")\n",
    "plt.plot(opt.term_crit())\n",
    "plt.xlabel('Iteration')\n",
    "plt.ylabel('Termination metric')\n",
    "plt.grid()\n",
    "plt.show()"
   ]
  },
  {
   "cell_type": "markdown",
   "metadata": {},
   "source": [
    "## Different initial configuration"
   ]
  },
  {
   "cell_type": "code",
   "execution_count": 20,
   "metadata": {},
   "outputs": [
    {
     "name": "stdout",
     "output_type": "stream",
     "text": [
      "  iter    f_best   acq_best    sigma_f\n",
      "     0 5.640e-01 4.250e-01 1.068e-01\n",
      "     1 4.875e-01 3.210e-01 1.365e-01\n",
      "     2 4.808e-01 3.206e-01 1.368e-01\n",
      "     3 4.756e-01 3.281e-01 1.490e-01\n",
      "     4 4.457e-01 3.000e-01 1.446e-01\n",
      "     5 4.363e-01 2.657e-01 1.523e-01\n",
      "     6 4.101e-01 2.391e-01 1.600e-01\n",
      "     7 3.887e-01 1.982e-01 1.744e-01\n",
      "     8 3.922e-01 2.623e-01 1.997e-01\n",
      "     9 3.717e-01 2.016e-01 1.934e-01\n",
      "  iter    f_best   acq_best    sigma_f\n",
      "    10 3.456e-01 1.981e-01 1.907e-01\n",
      "    11 3.404e-01 2.053e-01 2.043e-01\n",
      "    12 3.321e-01 2.400e-01 2.152e-01\n",
      "    13 3.205e-01 2.533e-01 2.132e-01\n",
      "    14 3.213e-01 2.760e-01 2.290e-01\n",
      "    15 3.113e-01 2.827e-01 2.622e-01\n",
      "    16 3.106e-01 2.920e-01 2.522e-01\n",
      "    17 3.137e-01 2.866e-01 2.215e-01\n",
      "    18 3.142e-01 2.946e-01 2.325e-01\n",
      "    19 3.154e-01 2.973e-01 2.042e-01\n",
      "\n",
      "Number of candidates evaluated.....: 20\n",
      "Number of folds evaluated..........: 23\n",
      "Estimated obj at incumbent.........: 0.315375\n",
      "Estimated obj at candidate.........: 0.315497\n",
      "\n",
      "Incumbent at termination:\n",
      "[5.e+04 1.e-06 1.e+00]\n",
      "\n",
      "Candidate at termination:\n",
      "[5.00000000e+04 2.38260521e-06 1.00000000e+00]\n"
     ]
    },
    {
     "data": {
      "text/plain": [
       "{'x_best': array([5.e+04, 1.e-06, 1.e+00]),\n",
       " 'f_best': 0.3153754321036421,\n",
       " 'acq_cand': 0.2973105153671892,\n",
       " 'x_cand': array([5.00000000e+04, 2.38260521e-06, 1.00000000e+00])}"
      ]
     },
     "execution_count": 20,
     "metadata": {},
     "output_type": "execute_result"
    }
   ],
   "source": [
    "# define optimizer object\n",
    "opt_new = FCVOpt(clf,param_bounds,sqrt_mcr,kernel=\"matern\",\n",
    "                 logscale=np.array([0,1,2]),max_iter=20,\n",
    "                 integer = [0],\n",
    "                 seed=1234,verbose=2,\n",
    "                 n_folds=5,n_init=4\n",
    "            )\n",
    "\n",
    "# tune hyperparameters\n",
    "opt_new.fit(text,y)"
   ]
  },
  {
   "cell_type": "code",
   "execution_count": 21,
   "metadata": {},
   "outputs": [
    {
     "data": {
      "image/png": "[encoded data removed]",
      "text/plain": [
       "<Figure size 720x432 with 1 Axes>"
      ]
     },
     "metadata": {
      "needs_background": "light"
     },
     "output_type": "display_data"
    }
   ],
   "source": [
    "plt.figure(figsize=(10,6))\n",
    "plt.plot(opt_new.y_inc) # plot predicted incumbent value at each iteration)\n",
    "plt.xlabel('Iteration')\n",
    "plt.ylabel('Sqrt. MCR')\n",
    "plt.title('Predicted incumbent at each iteration')\n",
    "plt.grid()\n",
    "plt.show()"
   ]
  },
  {
   "cell_type": "code",
   "execution_count": 22,
   "metadata": {},
   "outputs": [
    {
     "data": {
      "image/png": "[encoded data removed]",
      "text/plain": [
       "<Figure size 720x432 with 1 Axes>"
      ]
     },
     "metadata": {
      "needs_background": "light"
     },
     "output_type": "display_data"
    }
   ],
   "source": [
    "# plotting termination metric\n",
    "plt.figure(figsize=(10,6))\n",
    "plt.hlines(0.05,0,opt.max_iter-1,\n",
    "           linestyles=\"dashed\",colors=\"red\")\n",
    "plt.plot(opt_new.term_crit())\n",
    "plt.xlabel('Iteration')\n",
    "plt.ylabel('Termination metric')\n",
    "plt.grid()\n",
    "plt.show()"
   ]
  },
  {
   "cell_type": "code",
   "execution_count": null,
   "metadata": {},
   "outputs": [],
   "source": []
  }
 ],
 "metadata": {
  "kernelspec": {
   "display_name": "Python 3",
   "language": "python",
   "name": "python3"
  },
  "language_info": {
   "codemirror_mode": {
    "name": "ipython",
    "version": 3
   },
   "file_extension": ".py",
   "mimetype": "text/x-python",
   "name": "python",
   "nbconvert_exporter": "python",
   "pygments_lexer": "ipython3",
   "version": "3.6.7"
  }
 },
 "nbformat": 4,
 "nbformat_minor": 2
}
