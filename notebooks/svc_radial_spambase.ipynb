{
 "cells": [
  {
   "cell_type": "markdown",
   "metadata": {},
   "source": [
    "# Tuning SVM hyperparameters on spambase dataset\n",
    "\n",
    "There are two hyperparameters\n",
    "\n",
    "1. C - the regularization parameter\n",
    "2. gamma - the kernel bandwidth for the Gaussian kernel\n",
    "\n",
    "Both the hyperparameters are optimized on the log-scale. The loss function here is the square root of the misclassification rate."
   ]
  },
  {
   "cell_type": "code",
   "execution_count": 1,
   "metadata": {},
   "outputs": [],
   "source": [
    "import numpy as np\n",
    "import pandas as pd\n",
    "\n",
    "from fcvopt.optimizers.fcvopt import FCVOpt\n",
    "\n",
    "from sklearn.svm import SVC\n",
    "from sklearn.preprocessing import StandardScaler\n",
    "from sklearn.pipeline import Pipeline\n",
    "from sklearn.metrics import accuracy_score\n",
    "\n",
    "import matplotlib as mpl\n",
    "import matplotlib.pyplot as plt\n",
    "%matplotlib inline"
   ]
  },
  {
   "cell_type": "code",
   "execution_count": 2,
   "metadata": {},
   "outputs": [],
   "source": [
    "# setting display resolution of plots\n",
    "mpl.rcParams['figure.dpi']= 300"
   ]
  },
  {
   "cell_type": "code",
   "execution_count": 3,
   "metadata": {},
   "outputs": [],
   "source": [
    "# loading dataset\n",
    "dat = pd.read_csv('data/spambase.data',header=None)\n",
    "X = dat.values[:,:-1]\n",
    "y = dat.values[:,-1]"
   ]
  },
  {
   "cell_type": "code",
   "execution_count": 4,
   "metadata": {},
   "outputs": [],
   "source": [
    "# define classifier object and the hyperparameter bounds\n",
    "clf = Pipeline([('scale',StandardScaler()),\n",
    "                 ('svc',SVC())])\n",
    "param_bounds = {'svc__C':[np.exp(-10),np.exp(10)],\n",
    "                'svc__gamma':[np.exp(-10),np.exp(10)]}"
   ]
  },
  {
   "cell_type": "code",
   "execution_count": null,
   "metadata": {
    "scrolled": true
   },
   "outputs": [
    {
     "name": "stdout",
     "output_type": "stream",
     "text": [
      "  iter    f_best   acq_best    sigma_f\n",
      "     0 2.717e-01 1.225e-01 1.032e-01\n",
      "     1 2.703e-01 1.142e-01 1.106e-01\n",
      "     2 2.884e-01 1.449e-01 9.905e-02\n",
      "     3 2.098e-01 7.832e-02 9.911e-02\n",
      "     4 1.695e-01 2.597e-02 1.111e-01\n",
      "     5 8.934e-02 -3.732e-02 1.108e-01\n",
      "     6 8.846e-02 -7.255e-02 1.161e-01\n",
      "     7 6.604e-02 -3.380e-02 1.213e-01\n",
      "     8 6.355e-02 -2.511e-02 1.281e-01\n",
      "     9 5.905e-02 3.039e-03 1.220e-01\n",
      "  iter    f_best   acq_best    sigma_f\n",
      "    10 5.656e-02 -1.108e-02 1.294e-01\n",
      "    11 5.761e-02 -6.179e-03 1.340e-01\n"
     ]
    }
   ],
   "source": [
    "# optimizing square root of misclass rate\n",
    "# def sqrt_mcr(y_true,y_pred):\n",
    "#     return np.sqrt(1-accuracy_score(y_true,y_pred))\n",
    "\n",
    "def mcr(y_true,y_pred):\n",
    "    return 1-accuracy_score(y_true,y_pred)\n",
    "\n",
    "# define optimizer object\n",
    "opt = FCVOpt(clf,param_bounds,mcr,kernel=\"matern\",\n",
    "             logscale=np.array([0,1]),max_iter=30,\n",
    "             integer = [],\n",
    "             seed=1234,verbose=2,\n",
    "             n_folds=5,n_init=3)\n",
    "\n",
    "# tune hyperparameters\n",
    "opt.run(X,y)"
   ]
  },
  {
   "cell_type": "code",
   "execution_count": null,
   "metadata": {},
   "outputs": [],
   "source": [
    "plt.figure()\n",
    "plt.plot(opt.y_inc) # plot predicted incumbent value at each iteration\n",
    "plt.xlabel('Iteration')\n",
    "plt.ylabel(' MCR')\n",
    "plt.title('Predicted incumbent at each iteration')\n",
    "plt.grid()\n",
    "plt.show()"
   ]
  },
  {
   "cell_type": "code",
   "execution_count": null,
   "metadata": {},
   "outputs": [],
   "source": [
    "# plotting termination metric\n",
    "plt.figure()\n",
    "plt.hlines(0.05,0,opt.max_iter-1,\n",
    "           linestyles=\"dashed\",colors=\"red\")\n",
    "plt.plot(opt.term_crit())\n",
    "plt.xlabel('Iteration')\n",
    "plt.ylabel('Termination metric')\n",
    "plt.grid()\n",
    "plt.show()"
   ]
  },
  {
   "cell_type": "code",
   "execution_count": null,
   "metadata": {},
   "outputs": [],
   "source": [
    "opt.total_time/60"
   ]
  },
  {
   "cell_type": "code",
   "execution_count": null,
   "metadata": {},
   "outputs": [],
   "source": [
    "opt.mcmc_time"
   ]
  }
 ],
 "metadata": {
  "kernelspec": {
   "display_name": "Python 3",
   "language": "python",
   "name": "python3"
  },
  "language_info": {
   "codemirror_mode": {
    "name": "ipython",
    "version": 3
   },
   "file_extension": ".py",
   "mimetype": "text/x-python",
   "name": "python",
   "nbconvert_exporter": "python",
   "pygments_lexer": "ipython3",
   "version": "3.6.7"
  }
 },
 "nbformat": 4,
 "nbformat_minor": 2
}
